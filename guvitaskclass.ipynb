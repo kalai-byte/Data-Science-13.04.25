{
  "nbformat": 4,
  "nbformat_minor": 0,
  "metadata": {
    "colab": {
      "provenance": [],
      "authorship_tag": "ABX9TyOWEpPs2X/pP3cKzH6vfA60",
      "include_colab_link": true
    },
    "kernelspec": {
      "name": "python3",
      "display_name": "Python 3"
    },
    "language_info": {
      "name": "python"
    }
  },
  "cells": [
    {
      "cell_type": "markdown",
      "metadata": {
        "id": "view-in-github",
        "colab_type": "text"
      },
      "source": [
        "<a href=\"https://colab.research.google.com/github/kalai-byte/Data-Science-13.04.25/blob/main/guvitaskclass.ipynb\" target=\"_parent\"><img src=\"https://colab.research.google.com/assets/colab-badge.svg\" alt=\"Open In Colab\"/></a>"
      ]
    },
    {
      "cell_type": "code",
      "execution_count": 3,
      "metadata": {
        "colab": {
          "base_uri": "https://localhost:8080/"
        },
        "id": "_VcdCGMl6Cq4",
        "outputId": "6f84ebdf-19fd-4cb8-f697-0c0f9dc87fb0"
      },
      "outputs": [
        {
          "output_type": "stream",
          "name": "stdout",
          "text": [
            "rahul\n",
            "87\n",
            "89\n",
            "92\n",
            "95\n",
            "Name: rahul\n",
            "Roll Number: 87\n",
            "Average Marks: 92.0\n"
          ]
        }
      ],
      "source": [
        "class Student:\n",
        "    def __init__(self, name, roll_num, marks):\n",
        "        self.name = name\n",
        "        self.roll_num = roll_num\n",
        "        self.marks = marks\n",
        "\n",
        "    def display_info(self):\n",
        "        print(f\"Name: {self.name}\")\n",
        "        print(f\"Roll Number: {self.roll_num}\")\n",
        "\n",
        "\n",
        "    def calculate_average(self):\n",
        "        total_marks = sum(self.marks)\n",
        "        average = total_marks / len(self.marks)\n",
        "        return average\n",
        "\n",
        "\n",
        "\n",
        "name = input()\n",
        "roll_num = int (input())\n",
        "mark1 = float (input())\n",
        "mark2 = float (input())\n",
        "mark3 = float (input())\n",
        "marks = [mark1, mark2, mark3]\n",
        "student = Student(name, roll_num, marks)\n",
        "student.display_info()\n",
        "average = student.calculate_average()\n",
        "print(f\"Average Marks: {average}\")\n",
        "\n"
      ]
    },
    {
      "cell_type": "code",
      "source": [
        "class Bank_Account:\n",
        "    def __init__(self, account_holder, balance):\n",
        "        self.account_holder = account_holder\n",
        "        self.balance = balance\n",
        "\n",
        "    def deposit(self, amount):\n",
        "        self.balance += amount\n",
        "        print(f\"Deposited {amount}. \")\n",
        "\n",
        "    def withdraw(self, amount):\n",
        "        if amount <= self.balance:\n",
        "            self.balance -= amount\n",
        "            print(f\"Withdrawn {amount}.\\n Remaining balance: {self.balance}\")\n",
        "        else:\n",
        "            print(\"Insufficient funds.\")\n",
        "\n",
        "\n",
        "account_holder = input()\n",
        "balance = float (input())\n",
        "bank_account = Bank_Account(account_holder, balance)\n",
        "deposit_amount = float (input())\n",
        "withdraw_amount = float (input())\n",
        "bank_account.deposit(deposit_amount)\n",
        "bank_account.withdraw(withdraw_amount)\n",
        ""
      ],
      "metadata": {
        "colab": {
          "base_uri": "https://localhost:8080/"
        },
        "id": "5UUgYu1N7w5V",
        "outputId": "7b8aeca8-517f-49bb-8867-2a7449b995e0"
      },
      "execution_count": 8,
      "outputs": [
        {
          "output_type": "stream",
          "name": "stdout",
          "text": [
            "kalai\n",
            "5000\n",
            "2000\n",
            "3000\n",
            "Deposited 2000.0. \n",
            "Withdrawn 3000.0.\n",
            " Remaining balance: 4000.0\n"
          ]
        }
      ]
    },
    {
      "cell_type": "code",
      "source": [
        "class Book:\n",
        "  def __init__ (self,title,author,available):\n",
        "    self.title = title\n",
        "    self.author = author\n",
        "    self.available = available\n",
        "\n",
        "  def display_details(self):\n",
        "    print(f\"Book:{self.title} by {self.author}\")\n",
        "\n",
        "    if self.available:\n",
        "      print(\"Status:Available\")\n",
        "\n",
        "    else:\n",
        "      print(\"Status:Not available\")\n",
        "\n",
        "\n",
        "title = input()\n",
        "author = input()\n",
        "available = input()\n",
        "book = Book(title, author, available)\n",
        "book.display_details()\n",
        "\n"
      ],
      "metadata": {
        "colab": {
          "base_uri": "https://localhost:8080/"
        },
        "id": "5EWOa5X_92cA",
        "outputId": "1f9b4668-950f-4af0-9d2a-617b35366d15"
      },
      "execution_count": 15,
      "outputs": [
        {
          "output_type": "stream",
          "name": "stdout",
          "text": [
            "python\n",
            "kalai\n",
            "yes\n",
            "Book:python by kalai\n",
            "Status:Available\n"
          ]
        }
      ]
    }
  ]
}