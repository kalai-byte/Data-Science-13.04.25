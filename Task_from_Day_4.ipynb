{
  "nbformat": 4,
  "nbformat_minor": 0,
  "metadata": {
    "colab": {
      "provenance": [],
      "authorship_tag": "ABX9TyPKrT11iFwm8xIx9bIKrL0u",
      "include_colab_link": true
    },
    "kernelspec": {
      "name": "python3",
      "display_name": "Python 3"
    },
    "language_info": {
      "name": "python"
    }
  },
  "cells": [
    {
      "cell_type": "markdown",
      "metadata": {
        "id": "view-in-github",
        "colab_type": "text"
      },
      "source": [
        "<a href=\"https://colab.research.google.com/github/kalai-byte/Data-Science-13.04.25/blob/main/Task_from_Day_4.ipynb\" target=\"_parent\"><img src=\"https://colab.research.google.com/assets/colab-badge.svg\" alt=\"Open In Colab\"/></a>"
      ]
    },
    {
      "cell_type": "code",
      "execution_count": 7,
      "metadata": {
        "colab": {
          "base_uri": "https://localhost:8080/"
        },
        "id": "rekdL8s8BR60",
        "outputId": "f38d2745-82d6-4a90-913d-39df5875d6fe"
      },
      "outputs": [
        {
          "output_type": "stream",
          "name": "stdout",
          "text": [
            "Not divisibleby given num [67, 44, 22, 68, 109, 1, 2]\n",
            "Divisible by Three [39, 78, 3, 9]\n",
            "Divisible by Five [10, 20, 25, 100, 115, 5]\n",
            "Divisible by Seven [7, 14]\n"
          ]
        }
      ],
      "source": [
        "num = [10,20,39,67,78,44,25,22,68,100,109,115,1,2,3,5,7,9,14]\n",
        "three = []\n",
        "five = []\n",
        "seven = []\n",
        "not_divisible = []\n",
        "\n",
        "for i in num:\n",
        "    if i%3==0:\n",
        "        three.append(i)\n",
        "\n",
        "    elif i%5==0:\n",
        "        five.append(i)\n",
        "\n",
        "    elif i%7==0:\n",
        "        seven.append(i)\n",
        "\n",
        "    else:\n",
        "        not_divisible.append(i)\n",
        "print(\"Not divisibleby given num\",not_divisible)\n",
        "\n",
        "print(\"Divisible by Three\",three)\n",
        "print(\"Divisible by Five\",five)\n",
        "print(\"Divisible by Seven\",seven)\n"
      ]
    }
  ]
}